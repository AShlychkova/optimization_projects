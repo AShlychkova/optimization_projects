{
 "cells": [
  {
   "cell_type": "code",
   "execution_count": 326,
   "metadata": {},
   "outputs": [],
   "source": [
    "import numpy as np\n",
    "import pandas as pd\n",
    "import scipy.stats as sps\n",
    "import matplotlib.pyplot as plt\n",
    "from scipy.optimize import minimize\n",
    "\n",
    "%matplotlib inline"
   ]
  },
  {
   "cell_type": "markdown",
   "metadata": {},
   "source": [
    "\n",
    "$F(f(x), g_1(x), ..., g_n(x))$ =  $f(x) + \\Sigma_1^n\\frac{b_i}{g_i(x)}$\n",
    "\n",
    "If $b_i$->$0$ then $ argmin(F(x))$ is close to solution of problem:\n",
    "* minimize_ $(f(x) )$\n",
    "* subject to_ $(g_i(x) < 0, i=0,..,n) $\n"
   ]
  },
  {
   "cell_type": "code",
   "execution_count": 255,
   "metadata": {},
   "outputs": [],
   "source": [
    "def F(f, x, n):\n",
    "    return (f(x))[0]-(1/(n)/(f(x))[1:]).sum()"
   ]
  },
  {
   "cell_type": "markdown",
   "metadata": {},
   "source": [
    "Next step is to minimize F(x) using Gradient descent:\n",
    "* $x_0: g_i(x_0)<0$\n",
    "* $x_k = x_{k-1} + h*grad_F(x_{k-1})$\n",
    "* if $|grad_F(x_{k})| < \\epsilon$: return $x_k$"
   ]
  },
  {
   "cell_type": "code",
   "execution_count": 340,
   "metadata": {},
   "outputs": [],
   "source": [
    "# Gradient descent\n",
    "def mod(x):\n",
    "    return (x**2).sum()**0.5\n",
    "\n",
    "def grad(f, x_0): #!!\n",
    "    L = []\n",
    "    m = len(x_0)\n",
    "    for i in range(m): \n",
    "        step = np.array([0]*i+[0.00001]+[0]*(m-i-1))\n",
    "        L.append((f(x_0+step)-f(x_0))/0.00001)\n",
    "    return np.array(L)\n",
    "\n",
    "\n",
    "def grad_min(f, x_0, N):\n",
    "    n = 1\n",
    "    eps = 0.00001\n",
    "    f_ = lambda x: F(f, x, n)\n",
    "    g = grad(f_, x_0)\n",
    "    while mod(g) > eps and n < N:\n",
    "        n = n+1\n",
    "        x1 = x_0\n",
    "        x_0 = x_0 - 0.01*g\n",
    "        g = grad(f_, x_0)\n",
    "        f_ = lambda x:  F(f, x, n)\n",
    "    print('steps count = ', n) #for testing\n",
    "    return x_0\n",
    "    "
   ]
  },
  {
   "cell_type": "code",
   "execution_count": 318,
   "metadata": {},
   "outputs": [],
   "source": [
    "# SR1 (Quasi-Newton method)\n",
    "def SR1(x1, x2, f, H):\n",
    "    s = x2 - x1\n",
    "    y = grad(f, x2)-grad(f, x1)\n",
    "    a = s - H@y\n",
    "    return H + np.dot(a.reshape(len(a), 1), \n",
    "                      a.reshape(1,len(a)))/((s-H@y)@y)\n",
    "\n",
    "def q_n_min(f, x_0, N, H_method=SR1):\n",
    "    n = 1\n",
    "    eps = 0.01\n",
    "    f_ = lambda x: F(f, x, n)\n",
    "    g = grad(f_, x_0)\n",
    "    H = np.identity(len(x_0))\n",
    "    while mod(g) > eps and n < N:\n",
    "        n = n+1\n",
    "        x1 = x_0\n",
    "        x_0 = x_0 - 0.01*(H@g)\n",
    "        g = grad(f_, x_0)\n",
    "        H = H_method( x1, x_0, f_, H)\n",
    "        f_ = lambda x:  F(f, x, n)\n",
    "    print('steps count = ', n) #for testing\n",
    "    return x_0"
   ]
  },
  {
   "cell_type": "code",
   "execution_count": 319,
   "metadata": {},
   "outputs": [],
   "source": [
    "# testing function:\n",
    "def f(x):\n",
    "    return np.array([(x[0]+2)**2 - x[1], 1-x[1], x[1]-20])"
   ]
  },
  {
   "cell_type": "code",
   "execution_count": 320,
   "metadata": {},
   "outputs": [
    {
     "name": "stdout",
     "output_type": "stream",
     "text": [
      "steps count =  10419\n",
      "CPU times: user 4 µs, sys: 1 µs, total: 5 µs\n",
      "Wall time: 31.9 µs\n",
      "result =  [-2.000005  19.9901981]\n"
     ]
    }
   ],
   "source": [
    "res = grad_min(f, np.array([1, 4]), 40000)\n",
    "%time\n",
    "print('result = ', res)"
   ]
  },
  {
   "cell_type": "code",
   "execution_count": 260,
   "metadata": {},
   "outputs": [
    {
     "name": "stdout",
     "output_type": "stream",
     "text": [
      "steps count =  9999\n",
      "CPU times: user 3 µs, sys: 1 µs, total: 4 µs\n",
      "Wall time: 10 µs\n",
      "result =  [-2.000005   20.01004588]\n"
     ]
    }
   ],
   "source": [
    "res = q_n_min(f, np.array([1, 4]), 40000)\n",
    "%time\n",
    "print('result = ', res)"
   ]
  },
  {
   "cell_type": "code",
   "execution_count": 261,
   "metadata": {},
   "outputs": [],
   "source": [
    "# testing functions:\n",
    "A = np.array([[1, 2, 2, 2], \n",
    "             [1, 1, 1, 0],\n",
    "             [3, 1, 4, 1],\n",
    "             [2, 0.7887, 2, 2]])\n",
    "\n",
    "b = np.array([[1, 2, 3, 4],])\n",
    "c = -10\n",
    "\n",
    "def f(x):\n",
    "    x = np.array([x,]).T\n",
    "    return (np.array(((x.T-b)@A@(x-b.T) + c)))[0][0]\n",
    "\n",
    "def d_f(x):\n",
    "    x = np.array([x,]).T\n",
    "    return (np.array(2*A@(x-b.T))).T[0]\n",
    "\n",
    "def dd_f(x):\n",
    "    return A + A.T\n",
    "\n",
    "def G(x):\n",
    "    A = np.array([[1, 2, 2, 2], \n",
    "             [1, 1, 1, 0],\n",
    "             [3, 1, 4, 1],\n",
    "             [2, 2, 2, 2]])\n",
    "    A = np.matrix(A)\n",
    "    return A.I\n",
    "\n",
    "A = np.matrix(A)\n"
   ]
  },
  {
   "cell_type": "code",
   "execution_count": 262,
   "metadata": {},
   "outputs": [],
   "source": [
    "# Newton method\n",
    "# Requires exact Gaussian\n",
    "def n_min(f, x_0, N, accurate=\"\"):\n",
    "    n = 1\n",
    "    eps = 0.001\n",
    "    g = d_f(x_0)\n",
    "    H = np.identity(len(x_0))\n",
    "    while mod(g) > eps and n < N:\n",
    "        n = n+1\n",
    "        x1 = x_0\n",
    "        x_0 = (np.array(x_0 - 1/n*G(x_0)@g))[0]\n",
    "        g = d_f(x_0)\n",
    "    print('steps count = ', n) #for testing\n",
    "    return x_0"
   ]
  },
  {
   "cell_type": "code",
   "execution_count": 263,
   "metadata": {},
   "outputs": [
    {
     "name": "stdout",
     "output_type": "stream",
     "text": [
      "steps count =  4\n",
      "CPU times: user 3 µs, sys: 1 µs, total: 4 µs\n",
      "Wall time: 7.87 µs\n",
      "result =  [1.28820689 1.95196552 2.75982759 4.14410344]\n"
     ]
    }
   ],
   "source": [
    "res = n_min(f, np.array([2, 5, 2, 3]).T, 4)\n",
    "%time\n",
    "print('result = ', res)\n"
   ]
  },
  {
   "cell_type": "markdown",
   "metadata": {},
   "source": [
    "Consider discrete case:\n",
    "* u - parameter - $u \\in U = \\{u_1, ..., u_n\\}$\n",
    "* $p(u = u_i) = p_i$"
   ]
  },
  {
   "cell_type": "code",
   "execution_count": 264,
   "metadata": {},
   "outputs": [],
   "source": [
    "# Expected value:\n",
    "def E(f, x, U, PU):\n",
    "    def F(u):\n",
    "        return f(x, u)\n",
    "    F = np.vectorize(F, signature='()->(n)')\n",
    "    tmp = F(U)\n",
    "    res = np.array([0]*len(f(x, U[0])))\n",
    "    for i in range (len(U)):\n",
    "        res = res + tmp[i]*PU[i]\n",
    "    return res"
   ]
  },
  {
   "cell_type": "code",
   "execution_count": 265,
   "metadata": {},
   "outputs": [],
   "source": [
    "def f_(x_):\n",
    "    U = np.array([0.5, 1, 2])\n",
    "    P = np.array([0.2, 0.5, 0.3])\n",
    "    def f(x, u):\n",
    "        A = np.array([[2, 1], [1, -1]])\n",
    "        return (A@x - 1)**2 - 2 + u*x - np.array([u*3, 10])\n",
    "    return E(f, x_, U, P)"
   ]
  },
  {
   "cell_type": "code",
   "execution_count": 266,
   "metadata": {},
   "outputs": [
    {
     "name": "stdout",
     "output_type": "stream",
     "text": [
      "steps count =  1\n",
      "[ -3.4 -10.4] [ 1 -2]\n",
      "steps count =  10\n",
      "[ -3.91697784 -10.12823638] [ 1.16379306 -1.86281549]\n",
      "steps count =  100\n",
      "[ -4.26379706 -11.58170824] [ 1.0654751  -1.37101856]\n",
      "steps count =  1000\n",
      "[-6.09473225 -0.13309079] [-0.44952544  1.6876312 ]\n",
      "steps count =  10000\n",
      "[-6.10025357 -0.03523303] [-0.45443354  1.69657795]\n"
     ]
    }
   ],
   "source": [
    "for i in range(5):\n",
    "    x = grad_min(f_, np.array([1, -2]), 10**i)\n",
    "    print((f_(x)), x)"
   ]
  },
  {
   "cell_type": "code",
   "execution_count": 335,
   "metadata": {},
   "outputs": [],
   "source": [
    "# Inner pount method\n",
    "# Logarithmic barrier\n",
    "from math import log\n",
    "n = 1\n",
    "log_ = np.vectorize(log, signature='()->()')\n",
    "def log_barrrier(f, tau=n):\n",
    "    return lambda x: f(x)[0]*tau - (log_(-f(x)[1:])).sum()\n"
   ]
  },
  {
   "cell_type": "markdown",
   "metadata": {},
   "source": [
    "$ grad (logbarrrier(f)) = grad(f_0) + \\Sigma grad(f_i)/f_i$\n",
    "\n",
    "$ G (logbarrrier(f)) = G(f_0) + \\Sigma G(f_i)/(f_i)  -  grad(f_i)/f_i^2$"
   ]
  },
  {
   "cell_type": "code",
   "execution_count": 268,
   "metadata": {},
   "outputs": [
    {
     "name": "stdout",
     "output_type": "stream",
     "text": [
      "[[ 2  2  6  2]\n",
      " [ 2  1  3  0]\n",
      " [ 6  1 12  1]\n",
      " [ 4  2  6  2]]\n"
     ]
    }
   ],
   "source": [
    "x = np.array([2, 1, 3, 1])\n",
    "A = np.array([[1, 2, 2, 2], \n",
    "                 [1, 1, 1, 0],\n",
    "                 [3, 1, 4, 1],\n",
    "                 [2, 2, 2, 2]])\n",
    "print(A*x)"
   ]
  },
  {
   "cell_type": "code",
   "execution_count": 336,
   "metadata": {},
   "outputs": [
    {
     "data": {
      "text/plain": [
       "array([[   341.  ],\n",
       "       [ -9675.5 ],\n",
       "       [-29022.75],\n",
       "       [ -7851.  ]])"
      ]
     },
     "execution_count": 336,
     "metadata": {},
     "output_type": "execute_result"
    }
   ],
   "source": [
    "def test_function(x):\n",
    "    b = (np.array([20, 1.5, 3.5, -1])).reshape(-1, 1)\n",
    "    c = (np.array([8, -10000, -30000, -11100])).reshape(-1, 1)\n",
    "    A = np.array([[1, 2, 2, 2], \n",
    "                 [1, 1, 1, 0],\n",
    "                 [3, 1, 4, 1],\n",
    "                 [10, 2, 2, 2]])\n",
    "    y = x.reshape(-1, 1)\n",
    "    return A@(y - b)**2 + c\n",
    "\n",
    "def d_test_function(x):\n",
    "    b = (np.array([20, 1.5, 3.5, -1]))\n",
    "    A = np.array([[1, 2, 2, 2], \n",
    "                 [1, 1, 1, 0],\n",
    "                 [3, 1, 4, 1],\n",
    "                 [10, 2, 2, 2]])\n",
    "    return 2*A*(x - b)\n",
    "    \n",
    "test_function(x)"
   ]
  },
  {
   "cell_type": "code",
   "execution_count": 301,
   "metadata": {},
   "outputs": [
    {
     "data": {
      "text/plain": [
       "array([[-36.05328596],\n",
       "       [ -2.00037255],\n",
       "       [ -2.00047591],\n",
       "       [  8.0011768 ]])"
      ]
     },
     "execution_count": 301,
     "metadata": {},
     "output_type": "execute_result"
    }
   ],
   "source": [
    "grad(log_barrrier(test_function), x)"
   ]
  },
  {
   "cell_type": "code",
   "execution_count": 302,
   "metadata": {},
   "outputs": [
    {
     "data": {
      "text/plain": [
       "array([[-35.94670401],\n",
       "       [ -1.99960745],\n",
       "       [ -1.99950408],\n",
       "       [  7.9988432 ]])"
      ]
     },
     "execution_count": 302,
     "metadata": {},
     "output_type": "execute_result"
    }
   ],
   "source": [
    " grad_log_bar(d_test_function, x)"
   ]
  },
  {
   "cell_type": "code",
   "execution_count": 337,
   "metadata": {},
   "outputs": [],
   "source": [
    "def grad_log_bar(d_test_function, x):\n",
    "    return ((((d_test_function(x))[1:])/(test_function(x)[1:])).sum(axis=0) + n*(d_test_function(x))[0]).reshape(-1, 1)"
   ]
  },
  {
   "cell_type": "code",
   "execution_count": 383,
   "metadata": {},
   "outputs": [
    {
     "data": {
      "text/plain": [
       "array([-35.94670401,  -1.99960745,  -1.99950408,   7.9988432 ])"
      ]
     },
     "execution_count": 383,
     "metadata": {},
     "output_type": "execute_result"
    }
   ],
   "source": [
    "(grad_log_bar(d_test_function, x)).reshape(-1,)"
   ]
  },
  {
   "cell_type": "code",
   "execution_count": 384,
   "metadata": {},
   "outputs": [
    {
     "data": {
      "text/plain": [
       "array([-35.94670401,  -1.99960745,  -1.99950408,   7.9988432 ])"
      ]
     },
     "execution_count": 384,
     "metadata": {},
     "output_type": "execute_result"
    }
   ],
   "source": [
    "(lambda x: (grad_log_bar(d_test_function, x)).reshape(-1,))(x)"
   ]
  },
  {
   "cell_type": "code",
   "execution_count": 339,
   "metadata": {},
   "outputs": [],
   "source": [
    "grad = lambda f, x: grad_log_bar(d_test_function, x)"
   ]
  },
  {
   "cell_type": "code",
   "execution_count": 341,
   "metadata": {},
   "outputs": [
    {
     "name": "stdout",
     "output_type": "stream",
     "text": [
      "steps count =  748\n",
      "CPU times: user 3 µs, sys: 1 µs, total: 4 µs\n",
      "Wall time: 9.06 µs\n"
     ]
    }
   ],
   "source": [
    "res_ = grad_min(log_barrrier(test_function), x, 10000)\n",
    "%time"
   ]
  },
  {
   "cell_type": "code",
   "execution_count": 350,
   "metadata": {},
   "outputs": [
    {
     "name": "stdout",
     "output_type": "stream",
     "text": [
      "Optimization terminated successfully.\n",
      "         Current function value: -20.833993\n",
      "         Iterations: 186\n",
      "         Function evaluations: 320\n",
      "CPU times: user 3 µs, sys: 1e+03 ns, total: 4 µs\n",
      "Wall time: 5.96 µs\n"
     ]
    }
   ],
   "source": [
    "res = minimize(log_barrrier(test_function), x, method='nelder-mead',\n",
    "...                options={'disp': True})\n",
    "%time"
   ]
  },
  {
   "cell_type": "code",
   "execution_count": 351,
   "metadata": {},
   "outputs": [
    {
     "name": "stdout",
     "output_type": "stream",
     "text": [
      " final_simplex: (array([[20.00000499,  1.49998343,  3.50001209, -0.99997643],\n",
      "       [20.00005417,  1.50001206,  3.49999315, -1.0000034 ],\n",
      "       [19.99997522,  1.5000019 ,  3.49998898, -0.99995915],\n",
      "       [20.00003736,  1.49998151,  3.49998159, -0.99997128],\n",
      "       [19.99993277,  1.4999841 ,  3.49999185, -0.99999507]]), array([-20.83399342, -20.83399342, -20.83399342, -20.83399342,\n",
      "       -20.83399341]))\n",
      "           fun: -20.833993417943127\n",
      "       message: 'Optimization terminated successfully.'\n",
      "          nfev: 320\n",
      "           nit: 186\n",
      "        status: 0\n",
      "       success: True\n",
      "             x: array([20.00000499,  1.49998343,  3.50001209, -0.99997643])\n"
     ]
    }
   ],
   "source": [
    "print (res)"
   ]
  },
  {
   "cell_type": "code",
   "execution_count": 349,
   "metadata": {},
   "outputs": [
    {
     "name": "stdout",
     "output_type": "stream",
     "text": [
      "[19.99999006  1.499995    3.499995   -1.000005  ]\n"
     ]
    }
   ],
   "source": [
    "print (res_)"
   ]
  },
  {
   "cell_type": "code",
   "execution_count": 359,
   "metadata": {},
   "outputs": [
    {
     "data": {
      "text/plain": [
       "array([2, 1, 3, 1])"
      ]
     },
     "execution_count": 359,
     "metadata": {},
     "output_type": "execute_result"
    }
   ],
   "source": [
    "(x.reshape(-1, 1)).reshape(-1,)"
   ]
  },
  {
   "cell_type": "code",
   "execution_count": 386,
   "metadata": {},
   "outputs": [
    {
     "data": {
      "text/plain": [
       "      fun: -20.83399341992088\n",
       " hess_inv: array([[ 5.00901561e-01, -2.03088988e-05, -2.41849404e-05,\n",
       "         5.31824500e-05],\n",
       "       [-2.03088988e-05,  8.42576787e-01, -2.96298357e-01,\n",
       "         7.40560570e-02],\n",
       "       [-2.41849404e-05, -2.96298357e-01,  3.98219043e-01,\n",
       "        -3.70372294e-02],\n",
       "       [ 5.31824500e-05,  7.40560570e-02, -3.70372294e-02,\n",
       "         2.59291290e-01]])\n",
       "      jac: array([-1.38418933e-07, -3.07464603e-07,  1.80900873e-07, -8.25178277e-08])\n",
       "  message: 'Optimization terminated successfully.'\n",
       "     nfev: 11\n",
       "      nit: 7\n",
       "     njev: 11\n",
       "   status: 0\n",
       "  success: True\n",
       "        x: array([19.99999993,  1.49999992,  3.50000005, -1.00000002])"
      ]
     },
     "execution_count": 386,
     "metadata": {},
     "output_type": "execute_result"
    }
   ],
   "source": [
    "minimize(log_barrrier(test_function), x, method='BFGS',\n",
    "         jac=(lambda x: (grad_log_bar(d_test_function, x)).reshape(-1,)))"
   ]
  },
  {
   "cell_type": "code",
   "execution_count": null,
   "metadata": {},
   "outputs": [],
   "source": []
  }
 ],
 "metadata": {
  "kernelspec": {
   "display_name": "Python 3",
   "language": "python",
   "name": "python3"
  },
  "language_info": {
   "codemirror_mode": {
    "name": "ipython",
    "version": 3
   },
   "file_extension": ".py",
   "mimetype": "text/x-python",
   "name": "python",
   "nbconvert_exporter": "python",
   "pygments_lexer": "ipython3",
   "version": "3.7.0"
  }
 },
 "nbformat": 4,
 "nbformat_minor": 2
}
