{
 "cells": [
  {
   "cell_type": "code",
   "execution_count": 1,
   "metadata": {},
   "outputs": [],
   "source": [
    "import numpy as np\n",
    "import pandas as pd\n",
    "import scipy.stats as sps\n",
    "import matplotlib.pyplot as plt\n",
    "import seaborn as sns\n",
    "sns.set()\n",
    "\n",
    "%matplotlib inline"
   ]
  },
  {
   "cell_type": "markdown",
   "metadata": {},
   "source": [
    "\n",
    "$F(f(x), g_1(x), ..., g_n(x))$ =  $f(x) + \\Sigma_1^n\\frac{b_i}{g_i(x)}$\n",
    "\n",
    "If $b_i$->$0$ then $ argmin(F(x))$ is close to solution of problem:\n",
    "* minimize_ $(f(x) )$\n",
    "* subject to_ $(g_i(x) < 0, i=0,..,n) $\n"
   ]
  },
  {
   "cell_type": "code",
   "execution_count": 128,
   "metadata": {},
   "outputs": [],
   "source": [
    "def F(f, x, n):\n",
    "    return (f(x))[0]-(1/(n)/(f(x))[1:]).sum()"
   ]
  },
  {
   "cell_type": "markdown",
   "metadata": {},
   "source": [
    "Next step is to minimize F(x) using Gradient descent:\n",
    "* $x_0: g_i(x_0)<0$\n",
    "* $x_k = x_{k-1} + h*grad_F(x_{k-1})$\n",
    "* if $|grad_F(x_{k})| < \\epsilon$: return $x_k$"
   ]
  },
  {
   "cell_type": "code",
   "execution_count": 308,
   "metadata": {},
   "outputs": [],
   "source": [
    "# Gradient descent\n",
    "def mod(x):\n",
    "    return (x**2).sum()**0.5\n",
    "\n",
    "def grad(f, x_0):\n",
    "    L = []\n",
    "    m = len(x_0)\n",
    "    for i in range(m):\n",
    "        step = np.array([0]*i+[0.00001]+[0]*(m-i-1))\n",
    "        L.append((f(x_0+step)-f(x_0))/0.00001)\n",
    "    return np.array(L)\n",
    "\n",
    "\n",
    "def grad_min(f, x_0, N):\n",
    "    n = 1\n",
    "    eps = 0.00001\n",
    "    f_ = lambda x: F(f, x, n)\n",
    "    g = grad(f_, x_0)\n",
    "    #print(g, n, eps)\n",
    "    while mod(g) > eps and n < N:\n",
    "        n = n+1\n",
    "        x1 = x_0\n",
    "        x_0 = x_0 - 0.01*g\n",
    "        g = grad(f_, x_0)\n",
    "        #if (f(x_0)[1:]>0).any():\n",
    "            #return x1\n",
    "        f_ = lambda x:  F(f, x, n)\n",
    "    print('steps count = ', n) #for testing\n",
    "    return x_0\n",
    "    "
   ]
  },
  {
   "cell_type": "code",
   "execution_count": 309,
   "metadata": {},
   "outputs": [],
   "source": [
    "# testing function:\n",
    "def f(x):\n",
    "    return np.array([(x[0]+2)**2 - x[1], 1-x[1], x[1]-20])"
   ]
  },
  {
   "cell_type": "code",
   "execution_count": 310,
   "metadata": {},
   "outputs": [
    {
     "name": "stdout",
     "output_type": "stream",
     "text": [
      "steps count =  10000\n",
      "CPU times: user 4 µs, sys: 1 µs, total: 5 µs\n",
      "Wall time: 26.2 µs\n",
      "result =  [-2.000005   19.98999475]\n"
     ]
    }
   ],
   "source": [
    "res = grad_min(f, np.array([1, 4]), 10000)\n",
    "%time\n",
    "print('result = ', res)"
   ]
  },
  {
   "cell_type": "markdown",
   "metadata": {},
   "source": [
    "Consider discrete case:\n",
    "* u - parameter - $u \\in U = \\{u_1, ..., u_n\\}$\n",
    "* $p(u = u_i) = p_i$"
   ]
  },
  {
   "cell_type": "code",
   "execution_count": 311,
   "metadata": {},
   "outputs": [],
   "source": [
    "# Expected value:\n",
    "def E(f, x, U, PU):\n",
    "    def F(u):\n",
    "        return f(x, u)\n",
    "    F = np.vectorize(F, signature='()->(n)')\n",
    "    tmp = F(U)\n",
    "    res = np.array([0]*len(f(x, U[0])))\n",
    "    for i in range (len(U)):\n",
    "        res = res + tmp[i]*PU[i]\n",
    "    return res"
   ]
  },
  {
   "cell_type": "code",
   "execution_count": 358,
   "metadata": {},
   "outputs": [],
   "source": [
    "def f_(x_):\n",
    "    U = np.array([0.5, 1, 2])\n",
    "    P = np.array([0.2, 0.5, 0.3])\n",
    "    def f(x, u):\n",
    "        A = np.array([[2, 1], [1, -1]])\n",
    "        return (A@x - 1)**2 - 2 + u*x - np.array([u*3, 10])\n",
    "    return E(f, x_, U, P)"
   ]
  },
  {
   "cell_type": "code",
   "execution_count": 363,
   "metadata": {},
   "outputs": [
    {
     "name": "stdout",
     "output_type": "stream",
     "text": [
      "steps count =  1\n",
      "[ -3.4 -10.4] [ 1 -2]\n",
      "steps count =  10\n",
      "[ -3.91697784 -10.12823638] [ 1.16379306 -1.86281549]\n",
      "steps count =  100\n",
      "[ -4.26379706 -11.58170824] [ 1.0654751  -1.37101856]\n",
      "steps count =  1000\n",
      "[-6.09473225 -0.13309079] [-0.44952544  1.6876312 ]\n",
      "steps count =  10000\n",
      "[-6.10025357 -0.03523303] [-0.45443354  1.69657795]\n"
     ]
    }
   ],
   "source": [
    "for i in range(5):\n",
    "    x = grad_min(f_, np.array([1, -2]), 10**i)\n",
    "    print((f_(x)), x)"
   ]
  }
 ],
 "metadata": {
  "kernelspec": {
   "display_name": "Python 3",
   "language": "python",
   "name": "python3"
  },
  "language_info": {
   "codemirror_mode": {
    "name": "ipython",
    "version": 3
   },
   "file_extension": ".py",
   "mimetype": "text/x-python",
   "name": "python",
   "nbconvert_exporter": "python",
   "pygments_lexer": "ipython3",
   "version": "3.7.0"
  }
 },
 "nbformat": 4,
 "nbformat_minor": 2
}
